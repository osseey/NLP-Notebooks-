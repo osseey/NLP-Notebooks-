{
  "cells": [
    {
      "cell_type": "code",
      "execution_count": null,
      "metadata": {
        "id": "jJAJ6CYYmy0k"
      },
      "outputs": [],
      "source": [
        "# Sentiment analysis on IMDB movie reviews with Naïve Bayes\""
      ]
    },
    {
      "cell_type": "code",
      "execution_count": null,
      "metadata": {
        "id": "c9zx_Y1km284"
      },
      "outputs": [],
      "source": [
        "import os.path as op\n",
        "import re \n",
        "import numpy as np\n",
        "import matplotlib.pyplot as plt"
      ]
    },
    {
      "cell_type": "code",
      "execution_count": null,
      "metadata": {
        "id": "Y9XEBJ9Ym3At"
      },
      "outputs": [],
      "source": [
        "## Loading data\n",
        "#We retrieve the textual data in the variable *texts*\n",
        "#The labels are retrieved in the variable $y$\n",
        "#- it contains *len(texts)* of them: \n",
        "#$0$ indicates that the corresponding review is negative \n",
        "#while $1$ indicates that it is positive.\"\n"
      ]
    },
    {
      "cell_type": "code",
      "execution_count": null,
      "metadata": {
        "id": "aCJaY0Iqm3F9"
      },
      "outputs": [],
      "source": [
        "from glob import glob\n",
        "    # We get the files from the path: ./aclImdb/train/neg for negative reviews, and ./aclImdb/train/pos for positive reviews\n",
        "#train_filenames_neg = sorted(glob(op.join('.', 'aclImdb', 'train', 'neg', '*.txt')))\n",
        "#train_filenames_pos = sorted(glob(op.join('.', 'aclImdb', 'train', 'pos', '*.txt')))\n",
        "train_filenames_neg = sorted(glob(op.join('.', 'neg', '*.txt')))\n",
        "train_filenames_pos = sorted(glob(op.join('.', 'pos', '*.txt')))\n",
        "\n",
        "#test_filenames_neg = sorted(glob(op.join('.', 'aclImdb', 'test', 'neg', '*.txt')))\n",
        "#test_filenames_pos = sorted(glob(op.join('.', 'aclImdb', 'test', 'pos', '*.txt')))\n",
        "\n",
        "#test_filenames_neg = sorted(glob(op.join('.', 'neg', '*.txt')))\n",
        "#test_filenames_pos = sorted(glob(op.join('.', 'pos', '*.txt')))   \n",
        "\n",
        "\n",
        "    # Each files contains a review that consists in one line of text: we put this string in two lists, that we concatenate\n",
        "train_texts_neg = [open(f, encoding=\"utf8\").read() for f in train_filenames_neg]\n",
        "train_texts_pos = [open(f, encoding=\"utf8\").read() for f in train_filenames_pos]\n",
        "train_texts = train_texts_neg + train_texts_pos\n",
        "#test_texts_neg = [open(f, encoding=\"utf8\").read() for f in test_filenames_neg]\n",
        "#test_texts_pos = [open(f, encoding=\"utf8\").read() for f in test_filenames_pos]\n",
        "#test_texts = test_texts_neg + test_texts_pos\n",
        "\n",
        "    # The first half of the elements of the list are string of negative reviews, and the second half positive ones\n",
        "    # We create the labels, as an array of [1,len(texts)], filled with 1, and change the first half to\n",
        "\n",
        "train_labels = np.ones(len(train_texts), dtype=int)\n",
        "train_labels[:len(train_texts_neg)] = 0\n",
        "#test_labels = np.ones(len(test_texts), dtype=int)\n",
        "#test_labels[:len(test_texts_neg)] = 0\n",
        "\n"
      ]
    },
    {
      "cell_type": "code",
      "execution_count": null,
      "metadata": {
        "id": "ARUf42EL-59D"
      },
      "outputs": [],
      "source": [
        "#open(\"/neg/0_3.txt\", encoding=\"utf8\").read()\n",
        "#In this lab, the impact of our choice of representations\n",
        "#upon our results will also depend on the quantity of data we use:** \n",
        "#try to see how changing the parameter ```k``` affects our results !\"\n"
      ]
    },
    {
      "cell_type": "code",
      "execution_count": null,
      "metadata": {
        "colab": {
          "base_uri": "https://localhost:8080/"
        },
        "id": "JrFCJJU0_fFV",
        "outputId": "72eb41f8-9dab-4f3d-b442-d3b11b6a8778"
      },
      "outputs": [
        {
          "name": "stdout",
          "output_type": "stream",
          "text": [
            "Number of documents: 2500\n"
          ]
        }
      ],
      "source": [
        "# This number of documents may be high for most computers: we can select a fraction of them (here, one in k)\n",
        "# Use an even number to keep the same number of positive and negative reviews\n",
        "\n",
        "k = 10\n",
        "train_texts_reduced = train_texts[0::k]\n",
        "train_labels_reduced = train_labels[0::k]\n",
        "print('Number of documents:', len(train_texts_reduced))"
      ]
    },
    {
      "cell_type": "code",
      "execution_count": null,
      "metadata": {
        "id": "Hj6EXhQ7_fNR"
      },
      "outputs": [],
      "source": [
        "#We can use a function from sklearn, ```train_test_split```, to separate data into training and validation sets:\"\n",
        "\n",
        "from sklearn.model_selection import train_test_split\n",
        "\n",
        "train_texts_splt, val_texts, train_labels_splt, val_labels = train_test_split(train_texts_reduced, train_labels_reduced, test_size=.2)"
      ]
    },
    {
      "cell_type": "code",
      "execution_count": null,
      "metadata": {
        "id": "E3-qYauXAaJR"
      },
      "outputs": [],
      "source": [
        "## Adapted representation of documents\\n\",\n",
        "\n",
        "#Our statistical model, like most models applied to textual data, uses counts of word occurrences \n",
        "#in a document. Thus, a very convenient way to represent a document is to use a Bag-of-Words (BoW) vector, \n",
        "#containing the counts of each word (regardless of their order of occurrence) in the document.\n",
        "\n",
        "#If we consider the set of all the words appearing in our $T$ training documents, \n",
        "#which we note $V$ (Vocabulary), we can create **an index**, which is a bijection associating to \n",
        "#each $w$ word an integer, which will be its position in $V$.\n",
        "#Thus, for a document extracted from a set of documents containing $|V|$ different words, \n",
        "#a BoW representation will be a vector of size $|V|$, whose value at the index of a word $w$ \n",
        "#will be its number of occurrences in the document\n",
        "\n",
        "#We can use the **CountVectorizer** class from scikit-learn to obtain these representations:\""
      ]
    },
    {
      "cell_type": "code",
      "execution_count": null,
      "metadata": {
        "colab": {
          "base_uri": "https://localhost:8080/"
        },
        "id": "UCf1hWFVAaOD",
        "outputId": "f9e6cd37-6dae-44e8-eb86-b7ba7585c71d"
      },
      "outputs": [
        {
          "name": "stdout",
          "output_type": "stream",
          "text": [
            "['avenue', 'boulevard', 'city', 'down', 'ran', 'the', 'walk', 'walked']\n"
          ]
        },
        {
          "data": {
            "text/plain": [
              "array([[0, 1, 0, 2, 0, 1, 0, 1],\n",
              "       [1, 0, 0, 1, 0, 1, 0, 1],\n",
              "       [0, 1, 0, 1, 1, 1, 0, 0],\n",
              "       [0, 0, 1, 1, 0, 1, 1, 0],\n",
              "       [1, 0, 0, 1, 0, 2, 1, 0]])"
            ]
          },
          "execution_count": 10,
          "metadata": {},
          "output_type": "execute_result"
        }
      ],
      "source": [
        "from sklearn.feature_extraction.text import CountVectorizer\n",
        "from sklearn.model_selection import cross_val_score\n",
        "from sklearn.base import BaseEstimator, ClassifierMixin\n",
        "\n",
        "corpus = ['I walked down down the boulevard',\n",
        "              'I walked down the avenue',\n",
        "              'I ran down the boulevard',\n",
        "              'I walk down the city',\n",
        "             'I walk down the the avenue']\n",
        "vectorizer = CountVectorizer()\n",
        "Bow = vectorizer.fit_transform(corpus)\n",
        "# Vocabulary of the corpus\n",
        "print(vectorizer.get_feature_names())\n",
        "\n",
        "# Vecteur Bag of words\n",
        "Bow.toarray()\n"
      ]
    },
    {
      "cell_type": "code",
      "execution_count": null,
      "metadata": {
        "id": "JSxJ3mP3BOxY"
      },
      "outputs": [],
      "source": [
        "#We display the list containing the words ordered according to their index (Note that words\n",
        "#of 2 characters or less are not counted)."
      ]
    },
    {
      "cell_type": "code",
      "execution_count": null,
      "metadata": {
        "id": "CD5KjSyQBO2G"
      },
      "outputs": [],
      "source": [
        "## Preprocessing the text: get the BoW representations ##\\n\",\n",
        "\n",
        "#The first thing to do is to turn the review from a string into a list of words.\n",
        "#The simplest method is to divide the string according to spaces with the command:``text.split()``\n",
        "\n",
        "#But we must also be careful to remove special characters that may not have been cleaned up \n",
        "#(such as HTML tags if the data was obtained from web pages). Since we're going to count words, \n",
        "#we'll have to build a list of tokens appearing in our data. In our case, we'd like to reduce this\n",
        " #list and make it uniform (ignore capitalization, punctuation, and the shortest words). \n",
        "#We will therefore use a function adapted to our needs - but this is a job that we generally don't\n",
        " #need to do ourselves, since there are many tools already adapted to most situations. \n",
        "#For text cleansing, there are many scripts, based on different tools (regular expressions, \n",
        "#for example) that allow you to prepare data. The division of the text into words and the management \n",
        "#of punctuation is handled in a step called *tokenization*; if needed, a python package like NLTK contains\n",
        "#many different *tokenizers*."
      ]
    },
    {
      "cell_type": "code",
      "execution_count": null,
      "metadata": {
        "colab": {
          "base_uri": "https://localhost:8080/"
        },
        "id": "pfN9AnxsJYFh",
        "outputId": "9348de66-f124-48a0-ca25-d1a22df9d1e3"
      },
      "outputs": [
        {
          "name": "stderr",
          "output_type": "stream",
          "text": [
            "[nltk_data] Downloading package punkt to /Users/mac/nltk_data...\n",
            "[nltk_data]   Unzipping tokenizers/punkt.zip.\n"
          ]
        },
        {
          "data": {
            "text/plain": [
              "True"
            ]
          },
          "execution_count": 13,
          "metadata": {},
          "output_type": "execute_result"
        }
      ],
      "source": [
        "import nltk\n",
        "nltk.download('punkt')"
      ]
    },
    {
      "cell_type": "code",
      "execution_count": null,
      "metadata": {
        "colab": {
          "base_uri": "https://localhost:8080/"
        },
        "id": "qmjn8kbYBO8V",
        "outputId": "17d07297-ddaa-413d-a7ef-d5abaaacd6c5"
      },
      "outputs": [
        {
          "name": "stdout",
          "output_type": "stream",
          "text": [
            "['walked', 'down', 'down', 'the', 'boulevard', 'walked', 'down', 'the', 'avenue', 'ran', 'down', 'the', 'boulevard', 'walk', 'down', 'the', 'city', 'walk', 'down', 'the', 'the', 'avenue']\n",
            "['I', 'walked', 'down', 'down', 'the', 'boulevard', '.', 'I', 'walked', 'down', 'the', 'avenue', '.', 'I', 'ran', 'down', 'the', 'boulevard', '.', 'I', 'walk', 'down', 'the', 'city', '.', 'I', 'walk', 'down', 'the', 'the', 'avenue', '.']\n"
          ]
        }
      ],
      "source": [
        "# We might want to clean the file with various strategies:\\n\",\n",
        "def clean_and_tokenize(text):\n",
        "\n",
        "           #Cleaning a document with:\\n\",\n",
        "    #        - Lowercase        \\n\",\n",
        "    #       - Removing numbers with regular expressions\\n\",\n",
        "    #        - Removing punctuation with regular expressions\\n\",\n",
        "    #        - Removing other artifacts\\n\",\n",
        "    #    And separate the document into words by simply splitting at spaces\\n\",\n",
        "    #    Params:\\n\",\n",
        "    #        text (string): a sentence or a document\\n\",\n",
        "    #    Returns:\\n\",\n",
        "    #        tokens (list of strings): the list of tokens (word units) forming the document\\n\",\n",
        "    #    \\\"\\\"\\\"     \n",
        "    \n",
        "    # Lowercase\n",
        "    text = text.lower()\n",
        "    \n",
        "    # Remove numbers\n",
        "    text = re.sub(r\"[0-9]+\", \"\", text)\n",
        "\n",
        "    # Remove punctuation\n",
        "    REMOVE_PUNCT = re.compile(\"[.;:!\\'?,\\\"()[\\]]\")\n",
        "    text = REMOVE_PUNCT.sub(\"\", text)\n",
        "\n",
        "    # Remove small words (1 and 2 characters)\n",
        "    text = re.sub(r\"\\b\\w{1,2}\\b\", \"\", text)\n",
        "\n",
        "    # Remove HTML artifacts specific to the corpus we're going to work with\n",
        "    REPLACE_HTML = re.compile(\"(<br\\s*/><br\\s*/>)|(\\-)|(\\/)\")\n",
        "    text = REPLACE_HTML.sub(\" \", text)\n",
        "\n",
        "    tokens = text.split()       \n",
        "    return tokens\n",
        "\n",
        "\n",
        "    # Or we might want to use an already-implemented tool. The NLTK package has a lot of very \n",
        "    #useful text processing tools, among them various tokenizers\n",
        "    # Careful, NLTK was the first well-documented NLP package, but it might be outdated for some uses.\n",
        "    #Check the documentation !\n",
        "\n",
        "from nltk.tokenize import word_tokenize\n",
        "    \n",
        "corpus_raw = \"I walked down down the boulevard. I walked down the avenue. I ran down the boulevard. I walk down the city. I walk down the the avenue.\"\n",
        "    \n",
        "print(clean_and_tokenize(corpus_raw))\n",
        "print(word_tokenize(corpus_raw))"
      ]
    },
    {
      "cell_type": "code",
      "execution_count": null,
      "metadata": {
        "id": "VMc8BrNXAaSs"
      },
      "outputs": [],
      "source": [
        "# The next function takes as input a list of documents (each in the form of a string) \n",
        "#and returns, as in the example using ``CountVectorizer``: a\n",
        "# vocabulary that associates, to each word encountered, an index,\n",
        "# A matrix, with rows representing documents and columns representing words indexed \n",
        "#by the vocabulary. In position $(i,j)$, one should have the number of occurrences of the \n",
        "#word $j$ in the document $i$.\n",
        "# The vocabulary, which was in the form of a *list* in the previous example, \n",
        "#can be returned in the form of a *dictionary* whose keys are the words and values are the \n",
        "#indices. Since the vocabulary lists the words in the corpus without worrying about their number \n",
        "#of occurrences, it can be built up using a set (in python)."
      ]
    },
    {
      "cell_type": "code",
      "execution_count": null,
      "metadata": {
        "id": "L27aanQRAaWa"
      },
      "outputs": [],
      "source": [
        "def count_words(texts, voc = None):\n",
        "    #\"Vectorize text : return count of each word in the text snippets\\n\",\n",
        "    #Parameters\\n\",\n",
        "\n",
        "    # texts : list of str\\n\",\n",
        "    #      The texts\\n\",\n",
        "    \"    Returns\\n\",\n",
        "    \"    -------\\n\",\n",
        "    \"    vocabulary : dict\\n\",\n",
        "    \"        A dictionary that points to an index in counts for each word.\\n\",\n",
        "    \"    counts : ndarray, shape (n_samples, n_features)\\n\",\n",
        "    \"        The counts of each word in each text.\\n\",\n",
        "    \"    \\\"\\\"\\\"\\n\",\n",
        "    n_samples = len(texts)\n",
        "    if voc == None:\n",
        "      words = set()\n",
        "      for text in texts:\n",
        "        words = words.union(set(clean_and_tokenize(text))) # list of all words,\n",
        "      n_features = len(words) # number of different words,\n",
        "      vocabulary = dict(zip(words, range(n_features))) # vocab[wd] = index ; indexation,\n",
        "    else:\n",
        "      vocabulary = voc\n",
        "      n_features = len(vocabulary)\n",
        "    counts = np.zeros((n_samples, n_features))\n",
        "    for k, text in enumerate(texts): # énumeration: renvoie (k, texts[k]) ,\n",
        "      for w in clean_and_tokenize(text):\n",
        "        if w in vocabulary:\n",
        "          counts[k][vocabulary[w]] += 1.\n",
        "    return vocabulary, counts"
      ]
    },
    {
      "cell_type": "code",
      "execution_count": null,
      "metadata": {
        "colab": {
          "base_uri": "https://localhost:8080/"
        },
        "id": "jYC1NktrPZJp",
        "outputId": "f0221878-4882-49bb-8408-89205e04e9c5"
      },
      "outputs": [
        {
          "name": "stdout",
          "output_type": "stream",
          "text": [
            "{'the': 0, 'boulevard': 1, 'walk': 2, 'walked': 3, 'ran': 4, 'down': 5, 'avenue': 6, 'city': 7}\n",
            "[[1. 1. 0. 1. 0. 2. 0. 0.]\n",
            " [1. 0. 0. 1. 0. 1. 1. 0.]\n",
            " [1. 1. 0. 0. 1. 1. 0. 0.]\n",
            " [1. 0. 1. 0. 0. 1. 0. 1.]\n",
            " [2. 0. 1. 0. 0. 1. 1. 0.]]\n"
          ]
        }
      ],
      "source": [
        "Voc, X = count_words(corpus)\n",
        "print(Voc)\n",
        "print(X)"
      ]
    },
    {
      "cell_type": "code",
      "execution_count": null,
      "metadata": {
        "id": "ANG3mqjCTVaw"
      },
      "outputs": [],
      "source": [
        "#Careful: check the memory that the representations are going to use \n",
        "#(given the way they are build). What ```CountVectorizer``` argument allows to avoid the issue ?"
      ]
    },
    {
      "cell_type": "code",
      "execution_count": null,
      "metadata": {
        "colab": {
          "base_uri": "https://localhost:8080/"
        },
        "id": "VAPNLIBAtQf1",
        "outputId": "c92720bc-1cdc-42af-c04e-2db218b405c8"
      },
      "outputs": [
        {
          "name": "stdout",
          "output_type": "stream",
          "text": [
            "(25000, 105977)\n"
          ]
        }
      ],
      "source": [
        "voc, train_bow = count_words(train_texts)\n",
        "print(train_bow.shape)"
      ]
    },
    {
      "cell_type": "code",
      "execution_count": null,
      "metadata": {
        "colab": {
          "base_uri": "https://localhost:8080/"
        },
        "id": "3xihZzgSTftr",
        "outputId": "1b7b8dca-9322-4140-938b-29e382936041"
      },
      "outputs": [
        {
          "name": "stdout",
          "output_type": "stream",
          "text": [
            "(500, 105977)\n"
          ]
        }
      ],
      "source": [
        "_, val_bow = count_words(val_texts, voc)\n",
        "print(val_bow.shape)"
      ]
    },
    {
      "cell_type": "code",
      "execution_count": null,
      "metadata": {
        "colab": {
          "base_uri": "https://localhost:8080/"
        },
        "id": "Ipko8iqj9SsX",
        "outputId": "e4806b2e-1705-4d70-86e7-5d46c47d00a0"
      },
      "outputs": [
        {
          "name": "stdout",
          "output_type": "stream",
          "text": [
            "(2000, 25495)\n"
          ]
        }
      ],
      "source": [
        "# Create and fit the vectorizer to the training data\n",
        "\n",
        "vectorizer=CountVectorizer(max_features=30000)\n",
        "Bow=vectorizer.fit_transform(train_texts_splt)\n",
        "train_bow=Bow.toarray()\n",
        "print(train_bow.shape)"
      ]
    },
    {
      "cell_type": "code",
      "execution_count": null,
      "metadata": {
        "colab": {
          "base_uri": "https://localhost:8080/"
        },
        "id": "H0D00AS8vxBM",
        "outputId": "f5258425-925e-4d8f-89bc-7b1eb0b3a918"
      },
      "outputs": [
        {
          "name": "stdout",
          "output_type": "stream",
          "text": [
            "(500, 25495)\n"
          ]
        }
      ],
      "source": [
        "# Transform the validation data\n",
        "\n",
        "val_bow = vectorizer.transform(val_texts).toarray()\n",
        "print(val_bow.shape)"
      ]
    },
    {
      "cell_type": "code",
      "execution_count": null,
      "metadata": {
        "id": "K6GI_TeSwGgq"
      },
      "outputs": [],
      "source": [
        "## Naive Bayesian \\n\",\n",
        "    ### Main idea\\n\",\n",
        " \n",
        "    #A movie review is in fact a list of words $s = (w_1, ..., w_N)$, \n",
        "    #and we try to find the associated class $c$ - which in our case may be $c = 0$ \n",
        "    #or $c = 1$. The objective is thus to find for each review $s$ the class $\\\\hat{c}$ \n",
        "    #maximizing the conditional probability **$P(c|s)$** : \\n\",\n",
        "\n",
        "    #$$\\\\hat{c} = \\\\underset{c}{\\\\mathrm{argmax}}\\\\, \n",
        "    #P(c|s) = \\\\underset{c}{\\\\mathrm{argmax}}\\\\,\n",
        "    #\\\\frac{P(s|c)P(c)}{P(s)}$$\\n\",\n",
        "\n",
        "    #**Hypothesis : P(s) is constant for each class** :\\n\",\n",
        "\n",
        "    #$$\\\\hat{c} = \\\\underset{c}{\\\\mathrm{argmax}}\\\\,\\\\frac{P(s|c)P(c)}{P(s)} = \\\\underset{c}{\\\\mathrm{argmax}}\\\\,P(s|c)P(c)$$\\n\",\n",
        "   \n",
        "    #**Naive hypothesis : the variables (words) of a review are independant between themselves** : \\n\",\n",
        "   \n",
        "    #$$P(s|c) = P(w_1, ..., w_N|c)=\\\\Pi_{i=1..N}P(w_i|c)$$"
      ]
    },
    {
      "cell_type": "code",
      "execution_count": null,
      "metadata": {
        "id": "Hht2lBLowGkS"
      },
      "outputs": [],
      "source": [
        "### General view\n",
        "   \n",
        "    #### Training: Estimating the probabilities\n",
        "    \n",
        "    #For each word $w$ in the vocabulary $V$, $P(w|c)$ is the number \n",
        "    #of occurrences of $w$ in all reviews of class $c$, divided by the total number of occurrences \n",
        "    #in $c$. \n",
        "    #If we note $T(w,c)$ this number of occurrences, we get:\n",
        "    \n",
        "    #$$P(w|c) = \\\\text{Frequency of }w\\\\text{ in }c = \\\\frac{T(w,c)}{\\\\sum_{w' \\\\in V} T(w',c)}$$\\n\",\n",
        "    \n",
        "    #### Test: Calculating scores\\n\",\n",
        "    \n",
        "    #To facilitate the calculations and to avoid *underflow* and approximation errors, we use the log-sum \n",
        "    #trick, and we pass the equation into log-probabilities :\n",
        "    \n",
        "    #$$ \\\\hat{c} = \\\\underset{c}{\\\\mathrm{argmax}} P(c|s) = \\\\underset{c}{\\\\mathrm{argmax}} \\\\left[ \\\\mathrm{log}(P(c)) + \\\\sum_{i=1..N}log(P(w_i|c)) \\\\right] $$\\n\",\n",
        "    \n",
        "    #### Laplace smoothing\\n\",\n",
        "    \n",
        "    #A word that does not appear in a document has a probability of zero: \n",
        "    #this will cause issues with the logarithm. So we keep a very small part of the \n",
        "    #probability mass that we redistribute with the *Laplace smoothing*: \\n\",\n",
        "    \n",
        "    #$$P(w|c) = \\\\frac{T(w,c) + 1}{\\\\sum_{w' \\\\in V} (T(w',c) + 1)}$$\\n\",\n",
        "   \n",
        "    #There are other smoothing methods, generally suitable for other, more complex applications."
      ]
    },
    {
      "cell_type": "code",
      "execution_count": null,
      "metadata": {
        "colab": {
          "base_uri": "https://localhost:8080/",
          "height": 196
        },
        "id": "j5_hEHDSwGn7",
        "outputId": "f4ee94c9-f040-47a8-a601-a27fb8fbb8f8"
      },
      "outputs": [
        {
          "data": {
            "text/plain": [
              "'## Detail: training\\n\",\\n    \"\\n\",\\n    \"The idea is to extract the number of occurrences $T(w,c)$ for each word $w$ and each class $c$, which will make it possible to calculate the matrix of conditional probabilities $\\\\pmb{P}$ such that: $$\\\\pmb{P}_{w,c} = P(w|c)$$\\n\",\\n    \"\\n\",\\n    \"Note that the number of occurrences $T(w,c)$ can be easily obtained from the BoW representations of all documents !\\n\",\\n    \"\\n\",\\n    \"### Procedure:\\n\",\\n    \"\\n\",\\n    \"- Extract the vocabulary $V$ and counts $T(w,c)$ for each of the words $w$ and classes $c$, from a set of documents.\\n\",\\n    \"- Calculate the a priori probabilities of the classes $P(c) = \\\\frac{\\\\sum_{w \\\\in V} T(w,c)}{\\\\sum_{c \\\\in C} \\\\sum_{w \\\\in V} T(w,c)}$\\n\",\\n    \"- Calculate the conditional **smoothed** probabilities $P(w|c) = \\\\frac{T(w,c) + 1}{\\\\sum_{w\\' \\\\in V} T(w\\',c) + 1}$.\\n\",\\n    \"\\n\",\\n    \"## Detail: test\\n\",\\n    \"\\n\",\\n    \"We now know the conditional probabilities given by the $\\\\pmb{P}$ matrix. \\n\",\\n    \"Now we must obtain $P(s|c)$ for the current document. This quantity is obtained using a simple calculation involving the BoW representation of the document and $\\\\pmb{P}$.\\n\",\\n    \"\\n\",\\n    \"### Procedure:\\n\",\\n    \"\\n\",\\n    \"- For each of the classes $c$,\\n\",\\n    \"    - $Score(c) = \\\\log P(c)$\\n\",\\n    \"    - For each word $w$ in the document to be tested:\\n\",\\n    \"        - $Score(c) += \\\\log P(w|c)$\\n\",\\n    \"- Return $argmax_{c \\\\in C} Score(c)$ \"'"
            ]
          },
          "execution_count": 25,
          "metadata": {},
          "output_type": "execute_result"
        }
      ],
      "source": [
        "'''## Detail: training\\n\",\n",
        "    \"\\n\",\n",
        "    \"The idea is to extract the number of occurrences $T(w,c)$ for each word $w$ and each class $c$, which will make it possible to calculate the matrix of conditional probabilities $\\\\pmb{P}$ such that: $$\\\\pmb{P}_{w,c} = P(w|c)$$\\n\",\n",
        "    \"\\n\",\n",
        "    \"Note that the number of occurrences $T(w,c)$ can be easily obtained from the BoW representations of all documents !\\n\",\n",
        "    \"\\n\",\n",
        "    \"### Procedure:\\n\",\n",
        "    \"\\n\",\n",
        "    \"- Extract the vocabulary $V$ and counts $T(w,c)$ for each of the words $w$ and classes $c$, from a set of documents.\\n\",\n",
        "    \"- Calculate the a priori probabilities of the classes $P(c) = \\\\frac{\\\\sum_{w \\\\in V} T(w,c)}{\\\\sum_{c \\\\in C} \\\\sum_{w \\\\in V} T(w,c)}$\\n\",\n",
        "    \"- Calculate the conditional **smoothed** probabilities $P(w|c) = \\\\frac{T(w,c) + 1}{\\\\sum_{w' \\\\in V} T(w',c) + 1}$.\\n\",\n",
        "    \"\\n\",\n",
        "    \"## Detail: test\\n\",\n",
        "    \"\\n\",\n",
        "    \"We now know the conditional probabilities given by the $\\\\pmb{P}$ matrix. \\n\",\n",
        "    \"Now we must obtain $P(s|c)$ for the current document. This quantity is obtained using a simple calculation involving the BoW representation of the document and $\\\\pmb{P}$.\\n\",\n",
        "    \"\\n\",\n",
        "    \"### Procedure:\\n\",\n",
        "    \"\\n\",\n",
        "    \"- For each of the classes $c$,\\n\",\n",
        "    \"    - $Score(c) = \\\\log P(c)$\\n\",\n",
        "    \"    - For each word $w$ in the document to be tested:\\n\",\n",
        "    \"        - $Score(c) += \\\\log P(w|c)$\\n\",\n",
        "    \"- Return $argmax_{c \\\\in C} Score(c)$ \"'''"
      ]
    },
    {
      "cell_type": "code",
      "execution_count": null,
      "metadata": {
        "colab": {
          "base_uri": "https://localhost:8080/",
          "height": 196
        },
        "id": "ID-os2QxwGrT",
        "outputId": "de8e2548-49c1-4cc1-ec2e-7552265879cd"
      },
      "outputs": [
        {
          "data": {
            "text/plain": [
              "'We will therefore be able to use the reviews at our disposal to **estimate the probabilities \\n  $P(w|c)$ for each word $w$ given the two classes $c$**. These reviews will allow us to learn how \\n  to evaluate the \"compatibility\" between words and classes.\\n\",\\n    \"```python\\n\",\\n    \"def fit(self, X, y)\\n\",\\n    \"``` \\n\",\\n    \"**Training**: will learn a statistical model based on the representations $X$ corresponding \\n    to the labels $y$.\\n\",\\n    \"Here, $X$ contains representations obtained as the output of ```count_words```. You can complete\\n     the function using the procedure detailed above. \\n\",\\n    \"\\n\",\\n    \"Note: the smoothing is not necessarily done with a $1$ - it can be done with a positive value $\\\\alpha$,\\n     which we can implement as an argument of the class \"NB\".\\n\",\\n    \"\\n\",\\n    \"```python\\n\",\\n    \"def predict(self, X)\\n\",\\n    \"```\\n\",\\n    \"**Testing**: will return the labels predicted by the model for other representations $X$.'"
            ]
          },
          "execution_count": 26,
          "metadata": {},
          "output_type": "execute_result"
        }
      ],
      "source": [
        "'''We will therefore be able to use the reviews at our disposal to **estimate the probabilities \n",
        "  $P(w|c)$ for each word $w$ given the two classes $c$**. These reviews will allow us to learn how \n",
        "  to evaluate the \\\"compatibility\\\" between words and classes.\\n\",\n",
        "    \"```python\\n\",\n",
        "    \"def fit(self, X, y)\\n\",\n",
        "    \"``` \\n\",\n",
        "    \"**Training**: will learn a statistical model based on the representations $X$ corresponding \n",
        "    to the labels $y$.\\n\",\n",
        "    \"Here, $X$ contains representations obtained as the output of ```count_words```. You can complete\n",
        "     the function using the procedure detailed above. \\n\",\n",
        "    \"\\n\",\n",
        "    \"Note: the smoothing is not necessarily done with a $1$ - it can be done with a positive value $\\\\alpha$,\n",
        "     which we can implement as an argument of the class \\\"NB\\\".\\n\",\n",
        "    \"\\n\",\n",
        "    \"```python\\n\",\n",
        "    \"def predict(self, X)\\n\",\n",
        "    \"```\\n\",\n",
        "    \"**Testing**: will return the labels predicted by the model for other representations $X$.'''"
      ]
    },
    {
      "cell_type": "code",
      "execution_count": null,
      "metadata": {
        "id": "uzPg0PZL4f4o"
      },
      "outputs": [],
      "source": [
        "class NB(BaseEstimator, ClassifierMixin):\n",
        "        # Les arguments de classe permettent l'héritage de classes de sklearn\\n\",\n",
        "         def __init__(self, alpha=1.0):\n",
        "    # alpha est un paramètre pour le lissage (smoothing). Dans l'algorithme d'entraînement, et comme valeur par défaut, on utilise alpha = 1'''\n",
        "            self.alpha = alpha\n",
        "\n",
        "         def fit(self, X, y):\n",
        "            n_samples, n_features = X.shape\n",
        "    \n",
        "            classes = np.unique(y) # all labels\n",
        "            n_classes = len(classes) # number of labels\n",
        "\n",
        "            prior = np.zeros(n_classes) # probabilités des classes à priori\\n\",\n",
        "\n",
        "            tct = np.zeros((n_classes, n_features))\n",
        "            for k, c in enumerate(classes):\n",
        "                prior[k] = np.sum(y == c) / float(n_samples) # a priori, ce sont les fréquences\\n\",\n",
        "                tct[k, :] = np.sum(X[y == c, :], axis=0) # nombre(words|classe)\\n\",\n",
        "   \n",
        "            alpha = self.alpha  # laplace smoothing / lissage de laplace\\n\",\n",
        "            cond_prob = (tct + alpha) / np.sum(tct + alpha, axis=1)[:, None]\n",
        "\n",
        "            self.prior_ = prior\n",
        "            self.log_cond_prob_ = np.log(cond_prob) # On enregistre les probabilités conditionelles dans un attribut de la classe (avec self)\\n\",\n",
        "            return self\n",
        "\n",
        "         def predict(self, X):\n",
        "            n_classes = len(self.prior_)\n",
        "            scores = np.dot(X, self.log_cond_prob_.T) # On se sert de l'attribut appris dans \\\"fit\\\"\\n\",\n",
        "            scores += np.log(self.prior_)[None, :]\n",
        "            return np.array([0, 1])[np.argmax(scores, axis=1)]\n",
        "  \n",
        "         def score(self, X, y):\n",
        "            return np.mean(self.predict(X) == y)\n",
        "\n"
      ]
    },
    {
      "cell_type": "code",
      "execution_count": null,
      "metadata": {
        "id": "8gXshyXR4f-v"
      },
      "outputs": [],
      "source": [
        "## Experimentation\"\n",
        "\n",
        "nb = NB()\n",
        "nb.fit(train_bow, train_labels_splt)\n",
        "val_pred = nb.predict(val_bow)\n",
        "\n",
        "from sklearn.metrics import confusion_matrix, ConfusionMatrixDisplay, classification_report"
      ]
    },
    {
      "cell_type": "code",
      "execution_count": null,
      "metadata": {
        "id": "ioLl0CMW-4MM"
      },
      "outputs": [],
      "source": [
        "from sklearn.metrics import confusion_matrix, ConfusionMatrixDisplay, classification_report"
      ]
    },
    {
      "cell_type": "code",
      "execution_count": null,
      "metadata": {
        "colab": {
          "base_uri": "https://localhost:8080/",
          "height": 571
        },
        "id": "YIprT04o_Otl",
        "outputId": "f4e0a000-d982-44f1-84fa-7edb4a936c46"
      },
      "outputs": [
        {
          "name": "stdout",
          "output_type": "stream",
          "text": [
            "              precision    recall  f1-score   support\n",
            "\n",
            "           0       0.78      0.84      0.81       256\n",
            "           1       0.82      0.75      0.78       244\n",
            "\n",
            "    accuracy                           0.80       500\n",
            "   macro avg       0.80      0.79      0.80       500\n",
            "weighted avg       0.80      0.80      0.80       500\n",
            "\n"
          ]
        },
        {
          "data": {
            "image/png": "[encoded data removed]",
            "text/plain": [
              "<Figure size 432x288 with 2 Axes>"
            ]
          },
          "metadata": {
            "needs_background": "light"
          },
          "output_type": "display_data"
        }
      ],
      "source": [
        "print(classification_report(val_labels, val_pred))\n",
        "cm = confusion_matrix(val_labels , val_pred, normalize='true')\n",
        "disp = ConfusionMatrixDisplay(confusion_matrix=cm, display_labels=[0,1])\n",
        "disp.plot()\n",
        "plt.show()"
      ]
    },
    {
      "cell_type": "code",
      "execution_count": null,
      "metadata": {
        "id": "x1y-u7jA_OwV",
        "outputId": "7ecbb299-2671-444e-9825-fd009c08b4d7"
      },
      "outputs": [
        {
          "name": "stdout",
          "output_type": "stream",
          "text": [
            "              precision    recall  f1-score   support\n",
            "\n",
            "           0       0.78      0.84      0.81       256\n",
            "           1       0.82      0.75      0.78       244\n",
            "\n",
            "    accuracy                           0.80       500\n",
            "   macro avg       0.80      0.79      0.80       500\n",
            "weighted avg       0.80      0.80      0.80       500\n",
            "\n"
          ]
        },
        {
          "data": {
            "image/png": "[encoded data removed]",
            "text/plain": [
              "<Figure size 432x288 with 2 Axes>"
            ]
          },
          "metadata": {
            "needs_background": "light"
          },
          "output_type": "display_data"
        }
      ],
      "source": [
        "from sklearn.naive_bayes import MultinomialNB\n",
        "\n",
        "clf_nb = MultinomialNB()\n",
        "clf_nb.fit(train_bow, train_labels_splt)\n",
        "val_pred = clf_nb.predict(val_bow)\n",
        "print(classification_report(val_labels, val_pred))\n",
        "cm = confusion_matrix(val_labels , val_pred, normalize='true')\n",
        "disp = ConfusionMatrixDisplay(confusion_matrix=cm, display_labels=[0,1])\n",
        "disp.plot()\n",
        "plt.show()"
      ]
    },
    {
      "cell_type": "code",
      "execution_count": null,
      "metadata": {
        "id": "zV3t3tAG_O0D"
      },
      "outputs": [],
      "source": []
    }
  ],
  "metadata": {
    "accelerator": "GPU",
    "colab": {
      "collapsed_sections": [],
      "provenance": []
    },
    "kernelspec": {
      "display_name": "Python 3 (ipykernel)",
      "language": "python",
      "name": "python3"
    },
    "language_info": {
      "codemirror_mode": {
        "name": "ipython",
        "version": 3
      },
      "file_extension": ".py",
      "mimetype": "text/x-python",
      "name": "python",
      "nbconvert_exporter": "python",
      "pygments_lexer": "ipython3",
      "version": "3.9.7"
    }
  },
  "nbformat": 4,
  "nbformat_minor": 0
}